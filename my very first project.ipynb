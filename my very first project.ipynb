{
 "cells": [
  {
   "cell_type": "markdown",
   "metadata": {},
   "source": [
    "# apps with good revenue!\n",
    " \n",
    "**in this very first project:**\n",
    "\n",
    "Our `aim` is to find mobile app profiles that are profitable for the App Store and Google Play markets. We're working as data analysts for a company that builds Android and iOS mobile apps, and our job is to enable our team of developers to make data-driven decisions with respect to the kind of apps they build.\n",
    "\n",
    "At our company, we only build apps that are **free** to download and install, and our main `source of revenue` consists of in-app ads. This means that our revenue for any given app is mostly influenced by `the number of users that use our app`. Our goal for this project is to analyze data to help our developers understand what kinds of apps are likely to attract more users.\n",
    "\n",
    "at first we will analyze and clean all the data and the data for us here is google play apps at the year of 2018 click [here](https://www.kaggle.com/lava18/google-play-store-apps) to download the data set."
   ]
  },
  {
   "cell_type": "code",
   "execution_count": 1,
   "metadata": {},
   "outputs": [
    {
     "name": "stdout",
     "output_type": "stream",
     "text": [
      "['App', 'Category', 'Rating', 'Reviews', 'Size', 'Installs', 'Type', 'Price', 'Content Rating', 'Genres', 'Last Updated', 'Current Ver', 'Android Ver']\n",
      "\n",
      "\n",
      "['Photo Editor & Candy Camera & Grid & ScrapBook', 'ART_AND_DESIGN', '4.1', '159', '19M', '10,000+', 'Free', '0', 'Everyone', 'Art & Design', 'January 7, 2018', '1.0.0', '4.0.3 and up']\n",
      "\n",
      "\n",
      "Number of rows: 10842\n",
      "Number of columns: 13\n",
      "None\n",
      "\n",
      "\n",
      "['id', 'track_name', 'size_bytes', 'currency', 'price', 'rating_count_tot', 'rating_count_ver', 'user_rating', 'user_rating_ver', 'ver', 'cont_rating', 'prime_genre', 'sup_devices.num', 'ipadSc_urls.num', 'lang.num', 'vpp_lic']\n",
      "\n",
      "\n",
      "['284882215', 'Facebook', '389879808', 'USD', '0.0', '2974676', '212', '3.5', '3.5', '95.0', '4+', 'Social Networking', '37', '1', '29', '1']\n",
      "\n",
      "\n",
      "Number of rows: 7198\n",
      "Number of columns: 16\n",
      "None\n"
     ]
    }
   ],
   "source": [
    "# first we will define the function we will use to extract the data from the file\n",
    "\n",
    "def explore(dataset, start, end, rows_and_columns=False):\n",
    "    dataset_slice = dataset[start:end]    \n",
    "    for row in dataset_slice:\n",
    "        print(row)\n",
    "        print('\\n') # adds a new (empty) line after each row\n",
    "\n",
    "    if rows_and_columns:\n",
    "        print('Number of rows:', len(dataset))\n",
    "        print('Number of columns:', len(dataset[0]))\n",
    "\n",
    "# import the module then read the data\n",
    "\n",
    "from csv import reader\n",
    "apple_store = list(reader(open('D:\\Downloads\\AppleStore.csv')))\n",
    "google_store = list(reader(open('D:\\Downloads\\googleplaystore.csv')))\n",
    "\n",
    "print(explore(google_store,0,2,True))\n",
    "print('\\n')\n",
    "print(explore(apple_store,0,2,True))"
   ]
  },
  {
   "cell_type": "markdown",
   "metadata": {},
   "source": [
    "We see that the Google Play data set has 10841 apps and 13 columns. At a quick glance, the columns that might be useful for the purpose of our analysis are 'App', 'Category', 'Reviews', 'Installs', 'Type', 'Price', and 'Genres'.\n",
    "\n",
    "and our analysis is devide into step first one is:\n",
    "\n",
    "\n",
    "# 1) cleaning phase:\n",
    "\n",
    "every data analysis need a clean data-set, because when there is no mistakes or gaps or dublicates in the data-set our analsys will be more precise, we will clean it step by step.\n",
    "\n",
    "## a) cleaning irregular rows\n"
   ]
  },
  {
   "cell_type": "code",
   "execution_count": 2,
   "metadata": {
    "scrolled": true
   },
   "outputs": [],
   "source": [
    "# now we check whether all the data points are there and no rows in our data is missing for a value\n",
    "\n",
    "header_row = len(google_store[0])\n",
    "\n",
    "for row in google_store[1:]:\n",
    "    index_num = google_store.index(row)\n",
    "    \n",
    "    if len(row) != header_row : # we made it with if statement to make sure we won't worry if we run this code more than once \n",
    "        del google_store[index_num]\n",
    "        \n",
    "# we did not do it for apple store because it already has regular rows"
   ]
  },
  {
   "cell_type": "markdown",
   "metadata": {},
   "source": [
    "## b) delete the dublicates\n",
    "\n",
    "now we will check wether there is some dublicates apps in our data or not by runnig some specific test:"
   ]
  },
  {
   "cell_type": "code",
   "execution_count": 3,
   "metadata": {},
   "outputs": [
    {
     "name": "stdout",
     "output_type": "stream",
     "text": [
      "['Instagram', 'SOCIAL', '4.5', '66577313', 'Varies with device', '1,000,000,000+', 'Free', '0', 'Teen', 'Social', 'July 31, 2018', 'Varies with device', 'Varies with device']\n",
      "\n",
      "\n",
      "['Instagram', 'SOCIAL', '4.5', '66577446', 'Varies with device', '1,000,000,000+', 'Free', '0', 'Teen', 'Social', 'July 31, 2018', 'Varies with device', 'Varies with device']\n",
      "\n",
      "\n",
      "['Instagram', 'SOCIAL', '4.5', '66577313', 'Varies with device', '1,000,000,000+', 'Free', '0', 'Teen', 'Social', 'July 31, 2018', 'Varies with device', 'Varies with device']\n",
      "\n",
      "\n",
      "['Instagram', 'SOCIAL', '4.5', '66509917', 'Varies with device', '1,000,000,000+', 'Free', '0', 'Teen', 'Social', 'July 31, 2018', 'Varies with device', 'Varies with device']\n",
      "\n",
      "\n"
     ]
    }
   ],
   "source": [
    "for app in google_store:\n",
    "    name = app[0]\n",
    "    if name == 'Instagram':\n",
    "        print(app)\n",
    "        print('\\n')"
   ]
  },
  {
   "cell_type": "markdown",
   "metadata": {},
   "source": [
    "**as we can see there is mulitple dublicates for the same app for that we will:**\n",
    "\n",
    "- create dictionary to put how much the app occurred in our data\n",
    "- and also create a list of lists for unique apps"
   ]
  },
  {
   "cell_type": "code",
   "execution_count": 4,
   "metadata": {},
   "outputs": [
    {
     "name": "stdout",
     "output_type": "stream",
     "text": [
      "number of dublicated apps: 798\n",
      "\n",
      "And here an example of some of the dublicated apps and how much it's dublications:\n",
      "Quick PDF Scanner + OCR FREE : 2 time/s\n",
      "Box : 2 time/s\n",
      "Google My Business : 2 time/s\n",
      "ZOOM Cloud Meetings : 1 time/s\n",
      "join.me - Simple Meetings : 2 time/s\n",
      "Zenefits : 1 time/s\n",
      "Google Ads : 2 time/s\n",
      "\n",
      "number of unique apps : 9659 \n",
      "\n",
      "and the examples from it :\n",
      "Photo Editor & Candy Camera & Grid & ScrapBook\n",
      "Coloring book moana\n",
      "U Launcher Lite â€“ FREE Live Cool Themes, Hide Apps\n",
      "Sketch - Draw & Paint\n",
      "Pixel Draw - Number Art Coloring Book\n"
     ]
    }
   ],
   "source": [
    "dublicated_apps_dict = {}\n",
    "unique_apps= []\n",
    "\n",
    "for row in google_store[1:]:\n",
    "    app_name = row[0]\n",
    "    \n",
    "    if app_name in unique_apps:\n",
    "        if app_name in dublicated_apps_dict:\n",
    "            dublicated_apps_dict[app_name]+=1\n",
    "        else:\n",
    "            dublicated_apps_dict[app_name]=1\n",
    "    else:\n",
    "        unique_apps.append(app_name)\n",
    "        \n",
    "# after that we will convert the dictionary to a list of tubles that have the key of the dictionary and the number of times\n",
    "\n",
    "dublicated_apps_list = []\n",
    "\n",
    "for key, value in dublicated_apps_dict.items():\n",
    "    the_tuble =(key,value)\n",
    "    dublicated_apps_list.append(the_tuble)\n",
    "    \n",
    "# finally we will show to the user how many apps that dublicated and the number of unique apps\n",
    "\n",
    "print('number of dublicated apps: {}\\n'.format(len(dublicated_apps_list)))\n",
    "\n",
    "print (\"And here an example of some of the dublicated apps and how much it's dublications:\")\n",
    "\n",
    "for app in dublicated_apps_list[0:7]:\n",
    "    a,b =app\n",
    "    print ('{} : {} time/s'.format(a,b))\n",
    "    \n",
    "print('\\nnumber of unique apps : {} \\n\\nand the examples from it :\\n{}'.format(\n",
    "    len(unique_apps),'\\n'.join(unique_apps[:5])))"
   ]
  },
  {
   "cell_type": "markdown",
   "metadata": {},
   "source": [
    "**after we found how many dublicates are there in our data we need to remove it:**\n",
    "\n",
    "- we will make dictionary with the ubdated information\n",
    "\n",
    "- our `criterion` is the highest number of reviews in an app because : `thats mean it is the most recent data should be`\n",
    "\n",
    "- we will take the apps with the ubdated information"
   ]
  },
  {
   "cell_type": "code",
   "execution_count": 5,
   "metadata": {},
   "outputs": [
    {
     "name": "stdout",
     "output_type": "stream",
     "text": [
      "expected length: 9659\n",
      "actuall length: 9659\n"
     ]
    }
   ],
   "source": [
    "# we will start by creating dictionary with highest number in reviews counts\n",
    "\n",
    "reviews_max={}\n",
    "\n",
    "for app in google_store[1:]:\n",
    "    name = app[0]\n",
    "    num_reviews = float(app[3])\n",
    "    \n",
    "    if name in reviews_max and num_reviews > reviews_max[name] : #\n",
    "        reviews_max[name]= num_reviews\n",
    "        \n",
    "    if name not in reviews_max :\n",
    "        reviews_max[name] = num_reviews\n",
    "        \n",
    "# now we make sure that the dictionay is correc by compare it with number of unique apps that we calculated earlier\n",
    "\n",
    "if len(reviews_max) == len(unique_apps) :\n",
    "    print('expected length: {}'.format(len(unique_apps)))\n",
    "    print('actuall length: {}'.format(len(reviews_max)))"
   ]
  },
  {
   "cell_type": "markdown",
   "metadata": {},
   "source": [
    "**our dictionay that has names as a key and review counts as the value is well sorted.**\n",
    "\n",
    "- now we will loop throght google play store data set and clean it\n",
    "- and also will initial two empty lists that stores our new and clean data :"
   ]
  },
  {
   "cell_type": "code",
   "execution_count": 6,
   "metadata": {},
   "outputs": [],
   "source": [
    "google_store_clean = []\n",
    "already_added = []\n",
    "\n",
    "for app in google_store[1:] :\n",
    "        name = app[0]\n",
    "        num_reviews = float(app[3])\n",
    "        \n",
    "        if num_reviews == reviews_max[name] and name not in already_added :\n",
    "            google_store_clean.append(app)\n",
    "            already_added.append(name)"
   ]
  },
  {
   "cell_type": "markdown",
   "metadata": {},
   "source": [
    "now lets explore the now data:"
   ]
  },
  {
   "cell_type": "code",
   "execution_count": 7,
   "metadata": {},
   "outputs": [
    {
     "name": "stdout",
     "output_type": "stream",
     "text": [
      "['Photo Editor & Candy Camera & Grid & ScrapBook', 'ART_AND_DESIGN', '4.1', '159', '19M', '10,000+', 'Free', '0', 'Everyone', 'Art & Design', 'January 7, 2018', '1.0.0', '4.0.3 and up']\n",
      "\n",
      "\n",
      "['U Launcher Lite â€“ FREE Live Cool Themes, Hide Apps', 'ART_AND_DESIGN', '4.7', '87510', '8.7M', '5,000,000+', 'Free', '0', 'Everyone', 'Art & Design', 'August 1, 2018', '1.2.4', '4.0.3 and up']\n",
      "\n",
      "\n",
      "['Sketch - Draw & Paint', 'ART_AND_DESIGN', '4.5', '215644', '25M', '50,000,000+', 'Free', '0', 'Teen', 'Art & Design', 'June 8, 2018', 'Varies with device', '4.2 and up']\n",
      "\n",
      "\n",
      "Number of rows: 9659\n",
      "Number of columns: 13\n"
     ]
    }
   ],
   "source": [
    "explore(google_store_clean,0,3,True)"
   ]
  },
  {
   "cell_type": "markdown",
   "metadata": {},
   "source": [
    "We have 9,659 rows, just as expecte, as we cleaned the data points we will go to the next step.\n",
    "\n",
    "## C) isolate non english apps\n",
    "\n",
    "**and thats is isolate the none english apps, because we just want the audience to be an english speakers :**\n",
    "\n",
    "- first of all we will define a `function`, that takes the name of the app and declares if that app name is 'none english' or Not, of course we will take the english one. "
   ]
  },
  {
   "cell_type": "code",
   "execution_count": 8,
   "metadata": {},
   "outputs": [],
   "source": [
    "def is_english(string):\n",
    "    for charc in string :\n",
    "        if ord(charc) > 127:\n",
    "            return False\n",
    "    return True"
   ]
  },
  {
   "cell_type": "markdown",
   "metadata": {},
   "source": [
    "now lets test the the functon we made:"
   ]
  },
  {
   "cell_type": "code",
   "execution_count": 9,
   "metadata": {},
   "outputs": [
    {
     "name": "stdout",
     "output_type": "stream",
     "text": [
      "True\n",
      "False\n",
      "False\n",
      "False\n"
     ]
    }
   ],
   "source": [
    "print(is_english('instagram'))\n",
    "print(is_english('爱奇艺PPS -《欢乐颂2》电视剧热播'))\n",
    "print(is_english('Docs To Go™ Free Office Suite'))\n",
    "print(is_english('Instachat 😜'))"
   ]
  },
  {
   "cell_type": "markdown",
   "metadata": {},
   "source": [
    "**as we can see our function is working now lets adjust it alittle bit so we mimimize the impact of lossing to many data points:**\n",
    "\n",
    "- we can do that if we calculated the number of none english charcters if it less than 3 we will keep the app with us\n",
    "\n",
    " "
   ]
  },
  {
   "cell_type": "code",
   "execution_count": 10,
   "metadata": {},
   "outputs": [],
   "source": [
    "def english_detector_3000(string):\n",
    "    non_english = 0\n",
    "    \n",
    "    for character in string:\n",
    "        if ord(character) > 127:\n",
    "            non_english += 1\n",
    "    \n",
    "    if non_english > 3:\n",
    "        return False\n",
    "    else:\n",
    "        return True"
   ]
  },
  {
   "cell_type": "markdown",
   "metadata": {},
   "source": [
    "let's test the new function:"
   ]
  },
  {
   "cell_type": "code",
   "execution_count": 11,
   "metadata": {},
   "outputs": [
    {
     "name": "stdout",
     "output_type": "stream",
     "text": [
      "True\n",
      "True\n",
      "False\n"
     ]
    }
   ],
   "source": [
    "print (english_detector_3000('Docs To Go™ Free Office Suite'))\n",
    "print (english_detector_3000('Instachat 😜'))\n",
    "print (english_detector_3000('爱奇艺PPS -《欢乐颂2》电视剧热播'))"
   ]
  },
  {
   "cell_type": "markdown",
   "metadata": {},
   "source": [
    "now let's do some filtring :"
   ]
  },
  {
   "cell_type": "code",
   "execution_count": 12,
   "metadata": {},
   "outputs": [
    {
     "name": "stdout",
     "output_type": "stream",
     "text": [
      "['Photo Editor & Candy Camera & Grid & ScrapBook', 'ART_AND_DESIGN', '4.1', '159', '19M', '10,000+', 'Free', '0', 'Everyone', 'Art & Design', 'January 7, 2018', '1.0.0', '4.0.3 and up']\n",
      "\n",
      "\n",
      "['U Launcher Lite â€“ FREE Live Cool Themes, Hide Apps', 'ART_AND_DESIGN', '4.7', '87510', '8.7M', '5,000,000+', 'Free', '0', 'Everyone', 'Art & Design', 'August 1, 2018', '1.2.4', '4.0.3 and up']\n",
      "\n",
      "\n",
      "['Sketch - Draw & Paint', 'ART_AND_DESIGN', '4.5', '215644', '25M', '50,000,000+', 'Free', '0', 'Teen', 'Art & Design', 'June 8, 2018', 'Varies with device', '4.2 and up']\n",
      "\n",
      "\n",
      "Number of rows: 9500\n",
      "Number of columns: 13\n",
      "\n",
      "\n",
      "['id', 'track_name', 'size_bytes', 'currency', 'price', 'rating_count_tot', 'rating_count_ver', 'user_rating', 'user_rating_ver', 'ver', 'cont_rating', 'prime_genre', 'sup_devices.num', 'ipadSc_urls.num', 'lang.num', 'vpp_lic']\n",
      "\n",
      "\n",
      "['284882215', 'Facebook', '389879808', 'USD', '0.0', '2974676', '212', '3.5', '3.5', '95.0', '4+', 'Social Networking', '37', '1', '29', '1']\n",
      "\n",
      "\n",
      "['389801252', 'Instagram', '113954816', 'USD', '0.0', '2161558', '1289', '4.5', '4.0', '10.23', '12+', 'Photo & Video', '37', '0', '29', '1']\n",
      "\n",
      "\n",
      "Number of rows: 6101\n",
      "Number of columns: 16\n"
     ]
    }
   ],
   "source": [
    "google_store_english = []\n",
    "apple_store_english = []\n",
    "\n",
    "for app in google_store_clean:\n",
    "    name = app[0]\n",
    "    if english_detector_3000(name):\n",
    "        google_store_english.append(app)\n",
    "        \n",
    "for app in apple_store:\n",
    "    name = app[1]  \n",
    "    if english_detector_3000(name):\n",
    "        apple_store_english.append(app)\n",
    "        \n",
    "explore(google_store_english, 0, 3, True)\n",
    "print('\\n')\n",
    "explore(apple_store_english, 0, 3, True)"
   ]
  },
  {
   "cell_type": "markdown",
   "metadata": {},
   "source": [
    "**as we see we ended up with 9,500 english apps in google store, and 6,101 apps in apple store.**\n",
    "\n",
    "we mentioned earlier want both english, and free apps now we will isolate the non free apps:"
   ]
  },
  {
   "cell_type": "code",
   "execution_count": 13,
   "metadata": {},
   "outputs": [
    {
     "name": "stdout",
     "output_type": "stream",
     "text": [
      "8759\n",
      "\n",
      "\n",
      "3169\n"
     ]
    }
   ],
   "source": [
    "google_store_final = []\n",
    "apple_store_final =[]\n",
    "\n",
    "for app in google_store_english:\n",
    "    \n",
    "    if app[6] == 'Free':\n",
    "        google_store_final.append(app)\n",
    "    \n",
    "for app in apple_store_english:\n",
    "    \n",
    "    if app[4] == '0.0':\n",
    "        apple_store_final.append(app)\n",
    "        \n",
    "print(len(google_store_final))\n",
    "print('\\n')\n",
    "print(len(apple_store_final))"
   ]
  },
  {
   "cell_type": "markdown",
   "metadata": {},
   "source": [
    "we ended up now with 8,407 apps from google store and 2,922 apps from apple store and those are good numbers to start Analyse it.\n",
    "\n",
    "\n",
    "# analysing  Phase :\n",
    "\n",
    "**As we mentioned in the introduction, our aim is to determine the kinds of apps that are likely to attract more users because our revenue is highly influenced by the number of people using our apps.**\n",
    "\n",
    "Because our end goal is to add the app on both Google Play and the App Store, we need to find app profiles that are successful on both markets. For instance, a profile that works well for both markets might be a productivity app that makes use of gamification.\n",
    "\n",
    "first we will define a function that makes for us a frequence table by genre and category to make the analysing easier .\n",
    "\n",
    "## a) analyze by genre or category"
   ]
  },
  {
   "cell_type": "code",
   "execution_count": 14,
   "metadata": {},
   "outputs": [],
   "source": [
    "def frequence_table(data_set, coulmn):\n",
    "    devide = len(data_set)\n",
    "    dictionary = {}\n",
    "    \n",
    "    for app in data_set :\n",
    "        name = app[coulmn]\n",
    "        \n",
    "        if name in dictionary:\n",
    "            dictionary[name] += 1\n",
    "        else :\n",
    "            dictionary[name] = 1\n",
    "            \n",
    "             \n",
    "    dictionary = {round((value*100/devide), 3): key for key , value in dictionary.items()}\n",
    "    \n",
    "    dictionary = sorted(dictionary.items(),reverse = True)\n",
    "    \n",
    "    for order ,pair in enumerate(dictionary, start = 1) :\n",
    "        print(f'#{order} genre is {pair[1]} with : {pair[0]}%\\n')"
   ]
  },
  {
   "cell_type": "markdown",
   "metadata": {},
   "source": [
    "## part one:\n",
    "## apple store"
   ]
  },
  {
   "cell_type": "code",
   "execution_count": 15,
   "metadata": {},
   "outputs": [
    {
     "name": "stdout",
     "output_type": "stream",
     "text": [
      "#1 genre is Games with : 58.536%\n",
      "\n",
      "#2 genre is Entertainment with : 7.826%\n",
      "\n",
      "#3 genre is Photo & Video with : 5.049%\n",
      "\n",
      "#4 genre is Education with : 3.724%\n",
      "\n",
      "#5 genre is Social Networking with : 3.282%\n",
      "\n",
      "#6 genre is Shopping with : 2.524%\n",
      "\n",
      "#7 genre is Utilities with : 2.398%\n",
      "\n",
      "#8 genre is Sports with : 2.177%\n",
      "\n",
      "#9 genre is Music with : 2.051%\n",
      "\n",
      "#10 genre is Health & Fitness with : 1.988%\n",
      "\n",
      "#11 genre is Productivity with : 1.704%\n",
      "\n",
      "#12 genre is Lifestyle with : 1.546%\n",
      "\n",
      "#13 genre is News with : 1.325%\n",
      "\n",
      "#14 genre is Travel with : 1.136%\n",
      "\n",
      "#15 genre is Finance with : 1.104%\n",
      "\n",
      "#16 genre is Weather with : 0.852%\n",
      "\n",
      "#17 genre is Food & Drink with : 0.82%\n",
      "\n",
      "#18 genre is Business with : 0.536%\n",
      "\n",
      "#19 genre is Book with : 0.379%\n",
      "\n",
      "#20 genre is Medical with : 0.189%\n",
      "\n",
      "#21 genre is Catalogs with : 0.126%\n",
      "\n"
     ]
    }
   ],
   "source": [
    "frequence_table(apple_store_final,11)"
   ]
  },
  {
   "cell_type": "markdown",
   "metadata": {},
   "source": [
    "we see that, more than the half of our DATA is dominated by the genre games with 59%, and afer that there the runner-up entertaiment with just 7.5% then, with third place comes photo & video editor with 5.1% .\n",
    "\n",
    "from that we can say there some preference to genres with entertaining purposes like :\n",
    "(games, social media,  photo & video editors,...etc).\n",
    "\n",
    "the coustemrs tent to the idea having fun with smart phones more than taking education and practical skills from apps.\n",
    "\n",
    "## part two:\n",
    "## google store "
   ]
  },
  {
   "cell_type": "code",
   "execution_count": 16,
   "metadata": {},
   "outputs": [
    {
     "name": "stdout",
     "output_type": "stream",
     "text": [
      "#1 genre is FAMILY with : 18.929%\n",
      "\n",
      "#2 genre is GAME with : 9.659%\n",
      "\n",
      "#3 genre is TOOLS with : 8.483%\n",
      "\n",
      "#4 genre is BUSINESS with : 4.647%\n",
      "\n",
      "#5 genre is PRODUCTIVITY with : 3.939%\n",
      "\n",
      "#6 genre is LIFESTYLE with : 3.916%\n",
      "\n",
      "#7 genre is FINANCE with : 3.722%\n",
      "\n",
      "#8 genre is MEDICAL with : 3.551%\n",
      "\n",
      "#9 genre is SPORTS with : 3.334%\n",
      "\n",
      "#10 genre is PERSONALIZATION with : 3.288%\n",
      "\n",
      "#11 genre is COMMUNICATION with : 3.254%\n",
      "\n",
      "#12 genre is HEALTH_AND_FITNESS with : 3.094%\n",
      "\n",
      "#13 genre is PHOTOGRAPHY with : 2.98%\n",
      "\n",
      "#14 genre is NEWS_AND_MAGAZINES with : 2.809%\n",
      "\n",
      "#15 genre is SOCIAL with : 2.649%\n",
      "\n",
      "#16 genre is TRAVEL_AND_LOCAL with : 2.34%\n",
      "\n",
      "#17 genre is SHOPPING with : 2.249%\n",
      "\n",
      "#18 genre is BOOKS_AND_REFERENCE with : 2.146%\n",
      "\n",
      "#19 genre is DATING with : 1.861%\n",
      "\n",
      "#20 genre is VIDEO_PLAYERS with : 1.804%\n",
      "\n",
      "#21 genre is MAPS_AND_NAVIGATION with : 1.381%\n",
      "\n",
      "#22 genre is FOOD_AND_DRINK with : 1.233%\n",
      "\n",
      "#23 genre is EDUCATION with : 1.176%\n",
      "\n",
      "#24 genre is ENTERTAINMENT with : 0.959%\n",
      "\n",
      "#25 genre is AUTO_AND_VEHICLES with : 0.925%\n",
      "\n",
      "#26 genre is LIBRARIES_AND_DEMO with : 0.902%\n",
      "\n",
      "#27 genre is WEATHER with : 0.788%\n",
      "\n",
      "#28 genre is EVENTS with : 0.719%\n",
      "\n",
      "#29 genre is ART_AND_DESIGN with : 0.651%\n",
      "\n",
      "#30 genre is PARENTING with : 0.639%\n",
      "\n",
      "#31 genre is BEAUTY with : 0.605%\n",
      "\n",
      "#32 genre is COMICS with : 0.582%\n",
      "\n"
     ]
    }
   ],
   "source": [
    "frequence_table(google_store_final,1)"
   ]
  },
  {
   "cell_type": "code",
   "execution_count": 17,
   "metadata": {},
   "outputs": [
    {
     "name": "stdout",
     "output_type": "stream",
     "text": [
      "#1 genre is Tools with : 8.471%\n",
      "\n",
      "#2 genre is Entertainment with : 6.085%\n",
      "\n",
      "#3 genre is Education with : 5.389%\n",
      "\n",
      "#4 genre is Business with : 4.647%\n",
      "\n",
      "#5 genre is Productivity with : 3.939%\n",
      "\n",
      "#6 genre is Lifestyle with : 3.905%\n",
      "\n",
      "#7 genre is Finance with : 3.722%\n",
      "\n",
      "#8 genre is Medical with : 3.551%\n",
      "\n",
      "#9 genre is Sports with : 3.402%\n",
      "\n",
      "#10 genre is Personalization with : 3.288%\n",
      "\n",
      "#11 genre is Communication with : 3.254%\n",
      "\n",
      "#12 genre is Action with : 3.105%\n",
      "\n",
      "#13 genre is Health & Fitness with : 3.094%\n",
      "\n",
      "#14 genre is Photography with : 2.98%\n",
      "\n",
      "#15 genre is News & Magazines with : 2.809%\n",
      "\n",
      "#16 genre is Social with : 2.649%\n",
      "\n",
      "#17 genre is Travel & Local with : 2.329%\n",
      "\n",
      "#18 genre is Shopping with : 2.249%\n",
      "\n",
      "#19 genre is Books & Reference with : 2.146%\n",
      "\n",
      "#20 genre is Simulation with : 2.055%\n",
      "\n",
      "#21 genre is Dating with : 1.861%\n",
      "\n",
      "#22 genre is Arcade with : 1.827%\n",
      "\n",
      "#23 genre is Video Players & Editors with : 1.781%\n",
      "\n",
      "#24 genre is Casual with : 1.735%\n",
      "\n",
      "#25 genre is Maps & Navigation with : 1.381%\n",
      "\n",
      "#26 genre is Food & Drink with : 1.233%\n",
      "\n",
      "#27 genre is Puzzle with : 1.142%\n",
      "\n",
      "#28 genre is Racing with : 1.005%\n",
      "\n",
      "#29 genre is Role Playing with : 0.948%\n",
      "\n",
      "#30 genre is Auto & Vehicles with : 0.925%\n",
      "\n",
      "#31 genre is Strategy with : 0.913%\n",
      "\n",
      "#32 genre is Libraries & Demo with : 0.902%\n",
      "\n",
      "#33 genre is Weather with : 0.788%\n",
      "\n",
      "#34 genre is Events with : 0.719%\n",
      "\n",
      "#35 genre is Adventure with : 0.662%\n",
      "\n",
      "#36 genre is Beauty with : 0.605%\n",
      "\n",
      "#37 genre is Comics with : 0.571%\n",
      "\n",
      "#38 genre is Parenting with : 0.491%\n",
      "\n",
      "#39 genre is Card with : 0.445%\n",
      "\n",
      "#40 genre is Casino with : 0.411%\n",
      "\n",
      "#41 genre is Educational;Education with : 0.4%\n",
      "\n",
      "#42 genre is Board with : 0.388%\n",
      "\n",
      "#43 genre is Educational with : 0.377%\n",
      "\n",
      "#44 genre is Education;Education with : 0.343%\n",
      "\n",
      "#45 genre is Word with : 0.251%\n",
      "\n",
      "#46 genre is Casual;Pretend Play with : 0.24%\n",
      "\n",
      "#47 genre is Music with : 0.194%\n",
      "\n",
      "#48 genre is Puzzle;Brain Games with : 0.171%\n",
      "\n",
      "#49 genre is Racing;Action & Adventure with : 0.148%\n",
      "\n",
      "#50 genre is Casual;Action & Adventure with : 0.137%\n",
      "\n",
      "#51 genre is Arcade;Action & Adventure with : 0.126%\n",
      "\n",
      "#52 genre is Action;Action & Adventure with : 0.103%\n",
      "\n",
      "#53 genre is Educational;Pretend Play with : 0.091%\n",
      "\n",
      "#54 genre is Parenting;Education with : 0.08%\n",
      "\n",
      "#55 genre is Casual;Creativity with : 0.069%\n",
      "\n",
      "#56 genre is Parenting;Music & Video with : 0.057%\n",
      "\n",
      "#57 genre is Role Playing;Pretend Play with : 0.046%\n",
      "\n",
      "#58 genre is Education;Music & Video with : 0.034%\n",
      "\n",
      "#59 genre is Video Players & Editors;Music & Video with : 0.023%\n",
      "\n",
      "#60 genre is Strategy;Creativity with : 0.011%\n",
      "\n"
     ]
    }
   ],
   "source": [
    "frequence_table(google_store_final,9)"
   ]
  },
  {
   "cell_type": "markdown",
   "metadata": {},
   "source": [
    "**and for google store there:**\n",
    "we can notice there no signefcunt differance between the catagory and the prime genre, but most category with percentage are educational purposes and practical knowledge such as (Tools, Education, Business, PRODUCTIVIT,...etc ).\n",
    "\n",
    "The difference between the Genres and the Category columns is not crystal clear, but one thing we can notice is that the Genres column is much more granular (it has more categories). We're only looking for the bigger picture at the moment, so we'll only work with the Category column moving forward.\n",
    "\n",
    "if we investigate more and  more we can it is not all just educational purposes there is some KID's games inside FAMILY category as we can see it here:\n",
    "\n",
    "[![Image](https://i.imgur.com/ALErqJF.png)](https://play.google.com/store/apps/category/FAMILY?hl=en)\n",
    "\n",
    "\n",
    "\n",
    "# the summary of genre by percentage :\n",
    " \n",
    "**Up to this point, we found that the App Store is dominated by apps designed for fun, while Google Play shows a more balanced landscape of both practical and for-fun apps. Now we'd like to get an idea about the kind of apps that have most users.**\n",
    "\n",
    "\n",
    "\n",
    "## b) analyze by average number of users\n",
    "\n",
    "\n",
    "we can get good use of the average because eventually our criterion is the number of users\n",
    "\n",
    "now lets create some functions to calculate the average number of users:"
   ]
  },
  {
   "cell_type": "code",
   "execution_count": 18,
   "metadata": {},
   "outputs": [],
   "source": [
    "def make_frequence(data_set, coulmn):\n",
    "    dictionary = {}\n",
    "    \n",
    "    for app in data_set :\n",
    "        name = app[coulmn]\n",
    "        \n",
    "        if name in dictionary:\n",
    "            dictionary[name] += 1\n",
    "        else :\n",
    "            dictionary[name] = 1\n",
    "    return dictionary\n",
    "\n",
    "def genre_frequence(data_set,table, coulmn,coulmn2): \n",
    "    tubles={}\n",
    "    \n",
    "    for genre in table:\n",
    "        devide = table[genre]\n",
    "        total = 0\n",
    "        \n",
    "        for app in data_set:\n",
    "            genre_name = app[coulmn]\n",
    "            \n",
    "            if genre == genre_name:\n",
    "                total+= float(app[coulmn2])\n",
    "                \n",
    "        genre_users = int (total/devide)\n",
    "        tubles[genre] = genre_users\n",
    "        \n",
    "    tubles =sorted({value:key for key ,value in tubles.items()}.items(), reverse =True)\n",
    "    \n",
    "    for order, pair in enumerate(tubles, start = 1):\n",
    "        print(f'#{order} {pair[1]} : has average of {pair[0]:,} users.\\n')"
   ]
  },
  {
   "cell_type": "markdown",
   "metadata": {},
   "source": [
    "## part one:\n",
    "## apple store"
   ]
  },
  {
   "cell_type": "code",
   "execution_count": 19,
   "metadata": {},
   "outputs": [
    {
     "name": "stdout",
     "output_type": "stream",
     "text": [
      "#1 Navigation : has average of 86,090 users.\n",
      "\n",
      "#2 Reference : has average of 79,350 users.\n",
      "\n",
      "#3 Social Networking : has average of 72,916 users.\n",
      "\n",
      "#4 Music : has average of 58,205 users.\n",
      "\n",
      "#5 Weather : has average of 54,215 users.\n",
      "\n",
      "#6 Book : has average of 46,384 users.\n",
      "\n",
      "#7 Food & Drink : has average of 33,333 users.\n",
      "\n",
      "#8 Finance : has average of 32,367 users.\n",
      "\n",
      "#9 Travel : has average of 31,358 users.\n",
      "\n",
      "#10 Photo & Video : has average of 28,441 users.\n",
      "\n",
      "#11 Shopping : has average of 27,816 users.\n",
      "\n",
      "#12 Health & Fitness : has average of 24,037 users.\n",
      "\n",
      "#13 Sports : has average of 23,008 users.\n",
      "\n",
      "#14 Games : has average of 22,985 users.\n",
      "\n",
      "#15 Productivity : has average of 21,799 users.\n",
      "\n",
      "#16 News : has average of 21,750 users.\n",
      "\n",
      "#17 Utilities : has average of 19,900 users.\n",
      "\n",
      "#18 Lifestyle : has average of 16,739 users.\n",
      "\n",
      "#19 Entertainment : has average of 14,364 users.\n",
      "\n",
      "#20 Business : has average of 7,491 users.\n",
      "\n",
      "#21 Education : has average of 7,003 users.\n",
      "\n",
      "#22 Catalogs : has average of 4,004 users.\n",
      "\n",
      "#23 Medical : has average of 612 users.\n",
      "\n"
     ]
    }
   ],
   "source": [
    "apple_store_genre = make_frequence(apple_store_final, 11)\n",
    "genre_frequence(apple_store_final,apple_store_genre,11,5)"
   ]
  },
  {
   "cell_type": "markdown",
   "metadata": {},
   "source": [
    "we can see that the top the genres by nymber of users is navigation, Refernece and Social Networking but we can't just say it is the most popular genres and it is commercial viable because some of the genres may have some huge apps that influence th average.\n",
    "\n",
    "for examples in social networking and music down below: "
   ]
  },
  {
   "cell_type": "code",
   "execution_count": 20,
   "metadata": {},
   "outputs": [
    {
     "name": "stdout",
     "output_type": "stream",
     "text": [
      "Facebook with 2,974,676.0 number of users\n",
      "\n",
      "Pinterest with 1,061,624.0 number of users\n",
      "\n",
      "Skype for iPhone with 373,519.0 number of users\n",
      "\n",
      "Messenger with 351,466.0 number of users\n",
      "\n",
      "Tumblr with 334,293.0 number of users\n",
      "\n",
      "WhatsApp Messenger with 287,589.0 number of users\n",
      "\n",
      "Kik with 260,965.0 number of users\n",
      "\n",
      "ooVoo â€“ Free Video Call, Text and Voice with 177,501.0 number of users\n",
      "\n",
      "TextNow - Unlimited Text + Calls with 164,963.0 number of users\n",
      "\n",
      "Viber Messenger â€“ Text & Call with 164,249.0 number of users\n",
      "\n",
      "Followers - Social Analytics For Instagram with 112,778.0 number of users\n",
      "\n"
     ]
    }
   ],
   "source": [
    "for app in apple_store_final:\n",
    "        if app[-5] == 'Social Networking' and float(app[5]) >100_000:\n",
    "            print (f'{app[1]} with {float(app[5]):,} number of users\\n')"
   ]
  },
  {
   "cell_type": "code",
   "execution_count": 21,
   "metadata": {},
   "outputs": [
    {
     "name": "stdout",
     "output_type": "stream",
     "text": [
      "Pandora - Music & Radio with 1,126,879.0 number of users\n",
      "\n",
      "Spotify Music with 878,563.0 number of users\n",
      "\n",
      "Shazam - Discover music, artists, videos & lyrics with 402,925.0 number of users\n",
      "\n",
      "iHeartRadio â€“ Free Music & Radio Stations with 293,228.0 number of users\n",
      "\n",
      "SoundCloud - Music & Audio with 135,744.0 number of users\n",
      "\n",
      "Magic Piano by Smule with 131,695.0 number of users\n",
      "\n",
      "Smule Sing! with 119,316.0 number of users\n",
      "\n",
      "TuneIn Radio - MLB NBA Audiobooks Podcasts Music with 110,420.0 number of users\n",
      "\n",
      "Amazon Music with 106,235.0 number of users\n",
      "\n"
     ]
    }
   ],
   "source": [
    "for app in apple_store_final:\n",
    "        if app[-5] == 'Music' and float(app[5]) >100_000:\n",
    "            print (f'{app[1]} with {float(app[5]):,} number of users\\n')"
   ]
  },
  {
   "cell_type": "markdown",
   "metadata": {},
   "source": [
    "## part two:\n",
    "## with google store"
   ]
  },
  {
   "cell_type": "code",
   "execution_count": 22,
   "metadata": {},
   "outputs": [
    {
     "name": "stdout",
     "output_type": "stream",
     "text": [
      "#1 COMMUNICATION : has average of 38,550,548 users.\n",
      "\n",
      "#2 VIDEO_PLAYERS : has average of 24,878,048 users.\n",
      "\n",
      "#3 SOCIAL : has average of 23,628,689 users.\n",
      "\n",
      "#4 PHOTOGRAPHY : has average of 17,840,110 users.\n",
      "\n",
      "#5 PRODUCTIVITY : has average of 16,787,331 users.\n",
      "\n",
      "#6 GAME : has average of 15,571,586 users.\n",
      "\n",
      "#7 TRAVEL_AND_LOCAL : has average of 14,120,454 users.\n",
      "\n",
      "#8 ENTERTAINMENT : has average of 11,767,380 users.\n",
      "\n",
      "#9 TOOLS : has average of 10,902,378 users.\n",
      "\n",
      "#10 NEWS_AND_MAGAZINES : has average of 9,626,407 users.\n",
      "\n",
      "#11 BOOKS_AND_REFERENCE : has average of 8,329,168 users.\n",
      "\n",
      "#12 SHOPPING : has average of 7,103,190 users.\n",
      "\n",
      "#13 PERSONALIZATION : has average of 5,240,358 users.\n",
      "\n",
      "#14 WEATHER : has average of 5,212,877 users.\n",
      "\n",
      "#15 HEALTH_AND_FITNESS : has average of 4,219,697 users.\n",
      "\n",
      "#16 MAPS_AND_NAVIGATION : has average of 4,115,374 users.\n",
      "\n",
      "#17 SPORTS : has average of 3,750,580 users.\n",
      "\n",
      "#18 FAMILY : has average of 3,718,295 users.\n",
      "\n",
      "#19 ART_AND_DESIGN : has average of 1,986,335 users.\n",
      "\n",
      "#20 FOOD_AND_DRINK : has average of 1,951,283 users.\n",
      "\n",
      "#21 EDUCATION : has average of 1,833,495 users.\n",
      "\n",
      "#22 BUSINESS : has average of 1,712,290 users.\n",
      "\n",
      "#23 LIFESTYLE : has average of 1,447,458 users.\n",
      "\n",
      "#24 HOUSE_AND_HOME : has average of 1,385,541 users.\n",
      "\n",
      "#25 FINANCE : has average of 1,365,500 users.\n",
      "\n",
      "#26 DATING : has average of 861,409 users.\n",
      "\n",
      "#27 COMICS : has average of 859,042 users.\n",
      "\n",
      "#28 AUTO_AND_VEHICLES : has average of 654,074 users.\n",
      "\n",
      "#29 LIBRARIES_AND_DEMO : has average of 649,314 users.\n",
      "\n",
      "#30 PARENTING : has average of 552,875 users.\n",
      "\n",
      "#31 BEAUTY : has average of 513,151 users.\n",
      "\n",
      "#32 EVENTS : has average of 253,542 users.\n",
      "\n",
      "#33 MEDICAL : has average of 121,161 users.\n",
      "\n"
     ]
    }
   ],
   "source": [
    "google_table = make_frequence(google_store_final,1)\n",
    "tubles={}\n",
    "\n",
    "for genre in google_table:\n",
    "    devide = google_table[genre]\n",
    "    total = 0\n",
    "\n",
    "    for app in google_store_final:\n",
    "        genre_name = app[1]\n",
    "        if genre == genre_name :\n",
    "            totalapp = app[5].replace('+','')\n",
    "            total += float(totalapp.replace(',',''))\n",
    "            \n",
    "    genre_users = int (total/devide)\n",
    "    tubles[genre] = genre_users\n",
    "\n",
    "tubles =sorted({value:key for key ,value in tubles.items()}.items(), reverse =True)\n",
    "\n",
    "for order, pair in enumerate(tubles, start = 1):\n",
    "    print(f'#{order} {pair[1]} : has average of {pair[0]:,} users.\\n')"
   ]
  },
  {
   "cell_type": "markdown",
   "metadata": {},
   "source": [
    "# Conclusions:\n",
    "\n",
    "## what we went through:\n",
    "\n",
    "we wnt throw moplies applecations for two known markets google store and apple store; at first we had a raw data to work with we Revise and filter it and cleaned it from mistakes like bad entries and gaps and even multiple dublicates and isloated the non english apps, because the company we giving them the analysis results are interested only at making english apps.\n",
    "\n",
    "\n",
    "## advices and tips:\n",
    "\n",
    "1- making apps with game as a category is common between companies, but their's outcomes is significantly good as we saw in genres percentage table.\n",
    "\n",
    "2- people now a days love both socialise and communicate in social network platforms.\n",
    "\n",
    "3-media and photographic apps such ass video players and photo editors and even music players are well known between users in `both markets`.\n",
    "\n",
    "4- the last advice is that making an app having fetures like socialize and media player will be  an good idea maybe the best idea on what we analyzed;\n",
    "and it is\n",
    "optional if the app has soem mini games to  entertain the bored audience while they exploring our app."
   ]
  }
 ],
 "metadata": {
  "kernelspec": {
   "display_name": "Python 3",
   "language": "python",
   "name": "python3"
  },
  "language_info": {
   "codemirror_mode": {
    "name": "ipython",
    "version": 3
   },
   "file_extension": ".py",
   "mimetype": "text/x-python",
   "name": "python",
   "nbconvert_exporter": "python",
   "pygments_lexer": "ipython3",
   "version": "3.7.6"
  }
 },
 "nbformat": 4,
 "nbformat_minor": 4
}
